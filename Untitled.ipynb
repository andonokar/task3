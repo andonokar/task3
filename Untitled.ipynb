{
 "cells": [
  {
   "cell_type": "code",
   "execution_count": 6,
   "id": "b96e22fe-d214-4603-a199-86faa1bb615c",
   "metadata": {},
   "outputs": [],
   "source": [
    "def calculate(s: str) -> int:\n",
    "    def suma(a,b):\n",
    "        return a + b\n",
    "    def mult(a,b):\n",
    "        return a * b\n",
    "    def div(a,b):\n",
    "        return int(a / b)\n",
    "    def sub(a,b):\n",
    "        return a - b\n",
    "    s = s.replace(\" \", \"\")\n",
    "    numbers = []\n",
    "    operators = {\n",
    "        \"+\": suma,\n",
    "        \"-\": sub,\n",
    "        \"*\": mult,\n",
    "        \"/\": div\n",
    "    }\n",
    "    keys = operators.keys()\n",
    "    cond = [\"/\", \"*\"]\n",
    "    op = []\n",
    "    numbers.append(int(s[0]))\n",
    "    for i, tk in enumerate(s[1:]):\n",
    "        if tk in keys:\n",
    "            op.append(tk)\n",
    "            continue\n",
    "        if s[i] not in keys:\n",
    "            numbers[-1] = int(f\"{numbers[-1]}{tk}\")\n",
    "            continue\n",
    "        if op[-1] in cond:\n",
    "            f = op.pop()\n",
    "            numbers[-1] = operators.get(f)(numbers[-1], int(tk))\n",
    "            continue\n",
    "        numbers.append(int(tk))\n",
    "    val = numbers.pop(0)\n",
    "    for o in op:\n",
    "        num = numbers.pop(0)\n",
    "        val = operators.get(o)(val, num)\n",
    "    return val\n"
   ]
  },
  {
   "cell_type": "code",
   "execution_count": 7,
   "id": "2299790f-c048-4b09-8fa8-2e09fa60ba0c",
   "metadata": {
    "scrolled": true
   },
   "outputs": [
    {
     "name": "stdout",
     "output_type": "stream",
     "text": [
      "[1]\n",
      "[]\n",
      "[1]\n",
      "['*']\n",
      "[2]\n",
      "[]\n",
      "[2]\n",
      "['-']\n",
      "[2, 3]\n",
      "['-']\n",
      "[2, 3]\n",
      "['-', '/']\n",
      "[2, 0]\n",
      "['-']\n",
      "[2, 0]\n",
      "['-', '+']\n",
      "[2, 0, 5]\n",
      "['-', '+']\n",
      "[2, 0, 5]\n",
      "['-', '+', '*']\n",
      "[2, 0, 30]\n",
      "['-', '+']\n",
      "[2, 0, 30]\n",
      "['-', '+', '-']\n",
      "[2, 0, 30, 7]\n",
      "['-', '+', '-']\n",
      "[2, 0, 30, 7]\n",
      "['-', '+', '-', '*']\n",
      "[2, 0, 30, 56]\n",
      "['-', '+', '-']\n",
      "[2, 0, 30, 56]\n",
      "['-', '+', '-', '+']\n",
      "[2, 0, 30, 56, 9]\n",
      "['-', '+', '-', '+']\n",
      "[2, 0, 30, 56, 9]\n",
      "['-', '+', '-', '+', '/']\n",
      "[2, 0, 30, 56, 9]\n",
      "['-', '+', '-', '+']\n"
     ]
    },
    {
     "data": {
      "text/plain": [
       "66"
      ]
     },
     "execution_count": 7,
     "metadata": {},
     "output_type": "execute_result"
    }
   ],
   "source": [
    "calculate(\"1*2-3/4+5*6-7*8+9/10\")"
   ]
  },
  {
   "cell_type": "code",
   "execution_count": null,
   "id": "56ee9bac-7510-4e6d-af46-f4d06af749ba",
   "metadata": {},
   "outputs": [],
   "source": []
  }
 ],
 "metadata": {
  "kernelspec": {
   "display_name": "Python 3 (ipykernel)",
   "language": "python",
   "name": "python3"
  },
  "language_info": {
   "codemirror_mode": {
    "name": "ipython",
    "version": 3
   },
   "file_extension": ".py",
   "mimetype": "text/x-python",
   "name": "python",
   "nbconvert_exporter": "python",
   "pygments_lexer": "ipython3",
   "version": "3.9.6"
  }
 },
 "nbformat": 4,
 "nbformat_minor": 5
}
