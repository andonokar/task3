{
 "cells": [
  {
   "cell_type": "code",
   "execution_count": 2,
   "id": "eda928ae-0e6d-4a5b-8306-7f96be81f0e0",
   "metadata": {},
   "outputs": [],
   "source": [
    "from pyspark.sql import SparkSession"
   ]
  },
  {
   "cell_type": "code",
   "execution_count": 3,
   "id": "9c7ec1fc-c8dc-4cf7-b06e-908851e6fc42",
   "metadata": {
    "collapsed": true,
    "jupyter": {
     "outputs_hidden": true
    }
   },
   "outputs": [
    {
     "name": "stdout",
     "output_type": "stream",
     "text": [
      ":: loading settings :: url = jar:file:/Users/anderson.lima/Library/Python/3.9/lib/python/site-packages/pyspark/jars/ivy-2.5.0.jar!/org/apache/ivy/core/settings/ivysettings.xml\n"
     ]
    },
    {
     "name": "stderr",
     "output_type": "stream",
     "text": [
      "Ivy Default Cache set to: /Users/anderson.lima/.ivy2/cache\n",
      "The jars for the packages stored in: /Users/anderson.lima/.ivy2/jars\n",
      "com.singlestore#singlestore-spark-connector_2.12 added as a dependency\n",
      ":: resolving dependencies :: org.apache.spark#spark-submit-parent-daba5893-0a1f-48fa-8c42-a04bcffef565;1.0\n",
      "\tconfs: [default]\n",
      "\tfound com.singlestore#singlestore-spark-connector_2.12;4.1.2-spark-3.3.0 in central\n",
      "\tfound org.apache.avro#avro;1.8.2 in central\n",
      "\tfound org.codehaus.jackson#jackson-core-asl;1.9.13 in central\n",
      "\tfound org.codehaus.jackson#jackson-mapper-asl;1.9.13 in central\n",
      "\tfound com.thoughtworks.paranamer#paranamer;2.7 in central\n",
      "\tfound org.xerial.snappy#snappy-java;1.1.1.3 in central\n",
      "\tfound org.apache.commons#commons-compress;1.8.1 in central\n",
      "\tfound org.tukaani#xz;1.5 in central\n",
      "\tfound org.slf4j#slf4j-api;1.7.7 in central\n",
      "\tfound org.apache.commons#commons-dbcp2;2.7.0 in central\n",
      "\tfound org.apache.commons#commons-pool2;2.7.0 in central\n",
      "\tfound commons-logging#commons-logging;1.2 in central\n",
      "\tfound org.scala-lang.modules#scala-java8-compat_2.12;0.9.0 in central\n",
      "\tfound com.singlestore#singlestore-jdbc-client;1.1.0 in central\n",
      "\tfound io.spray#spray-json_2.12;1.3.5 in central\n",
      "\tfound io.netty#netty-buffer;4.1.70.Final in central\n",
      "\tfound io.netty#netty-common;4.1.70.Final in central\n",
      "\tfound org.apache.commons#commons-dbcp2;2.9.0 in central\n",
      "\tfound org.apache.commons#commons-pool2;2.10.0 in central\n",
      ":: resolution report :: resolve 185ms :: artifacts dl 5ms\n",
      "\t:: modules in use:\n",
      "\tcom.singlestore#singlestore-jdbc-client;1.1.0 from central in [default]\n",
      "\tcom.singlestore#singlestore-spark-connector_2.12;4.1.2-spark-3.3.0 from central in [default]\n",
      "\tcom.thoughtworks.paranamer#paranamer;2.7 from central in [default]\n",
      "\tcommons-logging#commons-logging;1.2 from central in [default]\n",
      "\tio.netty#netty-buffer;4.1.70.Final from central in [default]\n",
      "\tio.netty#netty-common;4.1.70.Final from central in [default]\n",
      "\tio.spray#spray-json_2.12;1.3.5 from central in [default]\n",
      "\torg.apache.avro#avro;1.8.2 from central in [default]\n",
      "\torg.apache.commons#commons-compress;1.8.1 from central in [default]\n",
      "\torg.apache.commons#commons-dbcp2;2.9.0 from central in [default]\n",
      "\torg.apache.commons#commons-pool2;2.10.0 from central in [default]\n",
      "\torg.codehaus.jackson#jackson-core-asl;1.9.13 from central in [default]\n",
      "\torg.codehaus.jackson#jackson-mapper-asl;1.9.13 from central in [default]\n",
      "\torg.scala-lang.modules#scala-java8-compat_2.12;0.9.0 from central in [default]\n",
      "\torg.slf4j#slf4j-api;1.7.7 from central in [default]\n",
      "\torg.tukaani#xz;1.5 from central in [default]\n",
      "\torg.xerial.snappy#snappy-java;1.1.1.3 from central in [default]\n",
      "\t:: evicted modules:\n",
      "\torg.apache.commons#commons-dbcp2;2.7.0 by [org.apache.commons#commons-dbcp2;2.9.0] in [default]\n",
      "\torg.apache.commons#commons-pool2;2.7.0 by [org.apache.commons#commons-pool2;2.10.0] in [default]\n",
      "\t---------------------------------------------------------------------\n",
      "\t|                  |            modules            ||   artifacts   |\n",
      "\t|       conf       | number| search|dwnlded|evicted|| number|dwnlded|\n",
      "\t---------------------------------------------------------------------\n",
      "\t|      default     |   19  |   0   |   0   |   2   ||   17  |   0   |\n",
      "\t---------------------------------------------------------------------\n",
      ":: retrieving :: org.apache.spark#spark-submit-parent-daba5893-0a1f-48fa-8c42-a04bcffef565\n",
      "\tconfs: [default]\n",
      "\t0 artifacts copied, 17 already retrieved (0kB/3ms)\n"
     ]
    },
    {
     "name": "stdout",
     "output_type": "stream",
     "text": [
      "24/03/27 16:24:20 WARN NativeCodeLoader: Unable to load native-hadoop library for your platform... using builtin-java classes where applicable\n"
     ]
    },
    {
     "name": "stderr",
     "output_type": "stream",
     "text": [
      "Setting default log level to \"WARN\".\n",
      "To adjust logging level use sc.setLogLevel(newLevel). For SparkR, use setLogLevel(newLevel).\n"
     ]
    }
   ],
   "source": [
    "builder = SparkSession.builder.config(\"spark.jars.packages\", \"com.singlestore:singlestore-spark-connector_2.12:4.1.2-spark-3.3.0\") \\\n",
    "    .config(\"spark.driver.memory\", \"10g\")\n",
    "\n",
    "spark = builder.getOrCreate()"
   ]
  },
  {
   "cell_type": "code",
   "execution_count": 4,
   "id": "dfbb1988-7d5c-40d6-bf59-bfe9874c9e3c",
   "metadata": {},
   "outputs": [],
   "source": [
    "spark.conf.set(\"spark.datasource.singlestore.clientEndpoint\", \"localhost:3306\")\n",
    "spark.conf.set(\"spark.datasource.singlestore.user\", \"root\")\n",
    "spark.conf.set(\"spark.datasource.singlestore.password\", \"M04Y01nk7zNR0xKOLxh0M2yTLyZpPglS\")"
   ]
  },
  {
   "cell_type": "code",
   "execution_count": 5,
   "id": "5b6871b8-7e6f-4645-999a-04858bcdb60e",
   "metadata": {},
   "outputs": [],
   "source": [
    "df = spark.read.format(\"singlestore\") \\\n",
    "   .option(\"database\", \"adtech\") \\\n",
    "   .option(\"query\", \"SELECT * FROM events\").load()"
   ]
  },
  {
   "cell_type": "code",
   "execution_count": null,
   "id": "6a67bbd1-3431-47df-a854-a6a2732ef6ff",
   "metadata": {},
   "outputs": [
    {
     "name": "stderr",
     "output_type": "stream",
     "text": [
      "[Stage 0:===================================================>       (7 + 1) / 8]\r"
     ]
    }
   ],
   "source": [
    "df.write.format(\"parquet\").save(\"task3\")"
   ]
  },
  {
   "cell_type": "code",
   "execution_count": null,
   "id": "6bf650cb-bd9c-4be1-a1b6-59709ccbd9a8",
   "metadata": {},
   "outputs": [],
   "source": []
  }
 ],
 "metadata": {
  "kernelspec": {
   "display_name": "Python 3 (ipykernel)",
   "language": "python",
   "name": "python3"
  },
  "language_info": {
   "codemirror_mode": {
    "name": "ipython",
    "version": 3
   },
   "file_extension": ".py",
   "mimetype": "text/x-python",
   "name": "python",
   "nbconvert_exporter": "python",
   "pygments_lexer": "ipython3",
   "version": "3.9.6"
  }
 },
 "nbformat": 4,
 "nbformat_minor": 5
}
