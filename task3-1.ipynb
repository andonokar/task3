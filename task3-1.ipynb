{
 "cells": [
  {
   "cell_type": "code",
   "execution_count": 1,
   "id": "1143480f-23fa-4139-92e6-a9a89ae9d6c4",
   "metadata": {},
   "outputs": [],
   "source": [
    "import pandas as pd\n"
   ]
  },
  {
   "cell_type": "code",
   "execution_count": 2,
   "id": "aef75d83-72b6-49a7-8985-69f8b9a889d0",
   "metadata": {},
   "outputs": [],
   "source": [
    "df = pd.read_parquet(\"task3/part-00000-0027da7c-8ec2-4ab8-8a38-1d2579c28b5a-c000.snappy.parquet\")"
   ]
  },
  {
   "cell_type": "code",
   "execution_count": 7,
   "id": "9851a3da-4495-41bc-a118-161ef10ab9da",
   "metadata": {},
   "outputs": [
    {
     "data": {
      "text/plain": [
       "user_id       2532288\n",
       "event_name    2532288\n",
       "advertiser    2532288\n",
       "campaign      2532288\n",
       "gender        2532288\n",
       "income        2532288\n",
       "page_url      2532288\n",
       "region        2532288\n",
       "country       2532288\n",
       "dtype: int64"
      ]
     },
     "execution_count": 7,
     "metadata": {},
     "output_type": "execute_result"
    }
   ],
   "source": [
    "df.count()"
   ]
  },
  {
   "cell_type": "code",
   "execution_count": null,
   "id": "22c22b60-76e0-4fb0-a2a2-96a18027fcc7",
   "metadata": {},
   "outputs": [],
   "source": []
  }
 ],
 "metadata": {
  "kernelspec": {
   "display_name": "Python 3 (ipykernel)",
   "language": "python",
   "name": "python3"
  },
  "language_info": {
   "codemirror_mode": {
    "name": "ipython",
    "version": 3
   },
   "file_extension": ".py",
   "mimetype": "text/x-python",
   "name": "python",
   "nbconvert_exporter": "python",
   "pygments_lexer": "ipython3",
   "version": "3.9.6"
  }
 },
 "nbformat": 4,
 "nbformat_minor": 5
}
